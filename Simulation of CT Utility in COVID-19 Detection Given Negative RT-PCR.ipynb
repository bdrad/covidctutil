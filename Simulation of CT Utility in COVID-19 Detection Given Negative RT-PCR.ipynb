{
 "cells": [
  {
   "cell_type": "markdown",
   "metadata": {},
   "source": [
    "To study the issue of false negative tests probabilistically, we define 6 events:\n",
    "\n",
    "$GP$ - the genetic (RT-PCR) test gives a positive result\n",
    "\n",
    "$GN$ - the genetic (RT-PCR) test gives a negative result\n",
    "\n",
    "$CP$ - the CT test gives a positive result (for COVID-19)\n",
    "\n",
    "$CN$ - the CT test gives a negative result (for COVID-19)\n",
    "\n",
    "$P$ - patient has COVID-19\n",
    "\n",
    "$N$ - patient does not have COVID-19"
   ]
  },
  {
   "cell_type": "markdown",
   "metadata": {},
   "source": [
    "We input the values of the sensitivity and specificity of RT-PCR:\n",
    "\n",
    "$P(GP|P)$ - RT-PCR sensitivity\n",
    "\n",
    "$P(GN|N)$ - RT-PCR specificity\n",
    "\n",
    "as well as the sensitivity and specificity of CT, given that the RT-PCR is negative:\n",
    "\n",
    "$P(CP|P, GN)$ - CT sensitivity given that the RT-PCR is negative\n",
    "\n",
    "$P(CN|N, GN)$ - CT specificity given that the RT-PCR is negative\n",
    "\n",
    "as well as the base disease rate in the population:\n",
    "\n",
    "$P(P)$\n",
    "\n",
    "Note: these calculations assume that everyone in the population is given the RT-PCR test, but since tests have mostly only been given to people with a high risk of having COVID-19, the base rate should be higher than the overall population rate\n",
    "\n",
    "and the total population $N$."
   ]
  },
  {
   "cell_type": "code",
   "execution_count": 75,
   "metadata": {},
   "outputs": [],
   "source": [
    "def simulate(g_sens, g_spec, c_sens_given_gn, c_spec_given_gn, base, n):\n",
    "    p_gn_p = (1.0 - g_sens) * base\n",
    "    p_cp_gn_p = c_sens_given_gn * p_gn_p\n",
    "    print(\"Total number of true COVID patients in the test population:                       \", int(base*n))  \n",
    "    print(\"False negatives from RT-PCR (no CT):                                              \", int(p_gn_p*n))\n",
    "    p_gn_n = g_spec * (1.0 - base)\n",
    "    p_gp_n = (1.0 - g_spec) * (1.0 - base)\n",
    "    p_cp_gn_n = (1.0 - c_spec_given_gn) * p_gn_n\n",
    "    print(\"False positives by RT-PCR (no CT):                                                \", int(p_gp_n*n))\n",
    "    print(\"False positives by combining RT-PCR & CT (>=1 test positive) - Harm of CT:        \", int((p_gp_n+p_cp_gn_n)*n))\n",
    "    print(\"True positives on CT who would have been missed on RT-PCR only - Benefit of CT:   \", int(p_cp_gn_p*n))"
   ]
  },
  {
   "cell_type": "code",
   "execution_count": 86,
   "metadata": {},
   "outputs": [
    {
     "name": "stdout",
     "output_type": "stream",
     "text": [
      "Total number of true COVID patients in the test population:                        62500000\n",
      "False negatives from RT-PCR (no CT):                                               25000000\n",
      "False positives by RT-PCR (no CT):                                                 1875000\n",
      "False positives by combining RT-PCR & CT (>=1 test positive) - Harm of CT:         20437499\n",
      "True positives on CT who would have been missed on RT-PCR only - Benefit of CT:    17500000\n"
     ]
    }
   ],
   "source": [
    "#A situation in which CT's diagnostic utility is maximal\n",
    "#Assumptions: PCR is not sensitive, Conditional Sensitivity of CT in negative RT-PCR is high, COVID prevalence is high in tested pouplation\n",
    "simulate(0.6, 0.99, 0.70, 0.90, 0.25, 2.5e8)"
   ]
  },
  {
   "cell_type": "code",
   "execution_count": 87,
   "metadata": {
    "scrolled": true
   },
   "outputs": [
    {
     "name": "stdout",
     "output_type": "stream",
     "text": [
      "Total number of true COVID patients in the test population:                        5000000\n",
      "False negatives from RT-PCR (no CT):                                               150000\n",
      "False positives by RT-PCR (no CT):                                                 2450000\n",
      "False positives by combining RT-PCR & CT (>=1 test positive) - Harm of CT:         75215000\n",
      "True positives on CT who would have been missed on RT-PCR only - Benefit of CT:    37500\n"
     ]
    }
   ],
   "source": [
    "#A situation in which CT's diagnostic utility is minimized\n",
    "#Assumptions: PCR is very sensitive, Conditional Sensitivity of CT in negative RT-PCR is low, COVID prevalence is low in tested pouplation\n",
    "simulate(0.97, 0.99, 0.25, 0.70, 0.02, 2.5e8)"
   ]
  },
  {
   "cell_type": "code",
   "execution_count": 83,
   "metadata": {},
   "outputs": [
    {
     "name": "stdout",
     "output_type": "stream",
     "text": [
      "Total number of true COVID patients in the test population:                        2500000\n",
      "False negatives from RT-PCR (no CT):                                               375000\n",
      "False positives by RT-PCR (no CT):                                                 2475000\n",
      "False positives by combining RT-PCR & CT (>=1 test positive) - Harm of CT:         51479999\n",
      "True positives on CT who would have been missed on RT-PCR only - Benefit of CT:    187500\n"
     ]
    }
   ],
   "source": [
    "#A potentially reasonable set of parameters to be observed in the United States as the outbreak develops, in our opinion.\n",
    "simulate(0.85, 0.99, 0.50, 0.80, 0.01, 2.5e8)"
   ]
  },
  {
   "cell_type": "code",
   "execution_count": null,
   "metadata": {},
   "outputs": [],
   "source": []
  }
 ],
 "metadata": {
  "kernelspec": {
   "display_name": "Python 3",
   "language": "python",
   "name": "python3"
  },
  "language_info": {
   "codemirror_mode": {
    "name": "ipython",
    "version": 3
   },
   "file_extension": ".py",
   "mimetype": "text/x-python",
   "name": "python",
   "nbconvert_exporter": "python",
   "pygments_lexer": "ipython3",
   "version": "3.6.4"
  }
 },
 "nbformat": 4,
 "nbformat_minor": 2
}
