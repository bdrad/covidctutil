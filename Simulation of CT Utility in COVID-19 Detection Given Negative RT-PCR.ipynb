{
 "cells": [
  {
   "cell_type": "markdown",
   "metadata": {},
   "source": [
    "To study the issue of false negative tests probabilistically, we define 6 events:\n",
    "\n",
    "$GP$ - the genetic (RT-PCR) test gives a positive result\n",
    "\n",
    "$GN$ - the genetic (RT-PCR) test gives a negative result\n",
    "\n",
    "$CP$ - the CT test gives a positive result (for COVID-19)\n",
    "\n",
    "$CN$ - the CT test gives a negative result (for COVID-19)\n",
    "\n",
    "$P$ - patient has COVID-19\n",
    "\n",
    "$N$ - patient does not have COVID-19"
   ]
  },
  {
   "cell_type": "markdown",
   "metadata": {},
   "source": [
    "We input the values of the sensitivity and specificity of RT-PCR:\n",
    "\n",
    "$P(GP|P)$ - RT-PCR sensitivity\n",
    "\n",
    "$P(GN|N)$ - RT-PCR specificity\n",
    "\n",
    "as well as the sensitivity and specificity of CT, given that the RT-PCR is negative:\n",
    "\n",
    "$P(CP|P, GN)$ - CT sensitivity given that the RT-PCR is negative\n",
    "\n",
    "$P(CN|N, GN)$ - CT specificity given that the RT-PCR is negative\n",
    "\n",
    "as well as the base disease rate in the population:\n",
    "\n",
    "$P(P)$\n",
    "\n",
    "Note: these calculations assume that everyone in the population is given the RT-PCR test, but since tests have mostly only been given to people with a high risk of having COVID-19, the base rate should be higher than the overall population rate\n",
    "\n",
    "and the total population $N$."
   ]
  },
  {
   "cell_type": "code",
   "execution_count": 2,
   "metadata": {},
   "outputs": [],
   "source": [
    "def simulate(g_sens, g_spec, c_sens_given_gn, c_spec_given_gn, base, n):\n",
    "    p_gn_p = (1.0 - g_sens) * base\n",
    "    p_cp_gn_p = c_sens_given_gn * p_gn_p\n",
    "    print(\"False negatives from RT-PCR (no CT):                                              \", p_gn_p*n)\n",
    "    print(\"True positives identified on CT who would have been false negative on only RT-PCR:\", p_cp_gn_p*n)\n",
    "    p_gn_n = g_spec * (1.0 - base)\n",
    "    p_gp_n = (1.0 - g_spec) * (1.0 - base)\n",
    "    p_cp_gn_n = (1.0 - c_spec_given_gn) * p_gn_n\n",
    "    print(\"False positives by RT-PCR only:                                                   \", p_gp_n*n)\n",
    "    print(\"False positives by combining RT-PCR & CT (at least 1 test positive):              \", (p_gp_n+p_cp_gn_n)*n)"
   ]
  },
  {
   "cell_type": "code",
   "execution_count": 11,
   "metadata": {},
   "outputs": [
    {
     "name": "stdout",
     "output_type": "stream",
     "text": [
      "False negatives from RT-PCR (no CT):                                               3200.0\n",
      "True positives identified on CT who would have been false negative on only RT-PCR: 2240.0\n",
      "False positives by RT-PCR only:                                                    920.0000000000008\n",
      "False positives by combining RT-PCR & CT (at least 1 test positive):               10028.0\n"
     ]
    }
   ],
   "source": [
    "simulate(0.6, 0.99, 0.70, 0.90, 0.25, 100000)"
   ]
  },
  {
   "cell_type": "code",
   "execution_count": 13,
   "metadata": {},
   "outputs": [
    {
     "name": "stdout",
     "output_type": "stream",
     "text": [
      "False negatives from RT-PCR (no CT):                                               60.00000000000006\n",
      "True positives identified on CT who would have been false negative on only RT-PCR: 42.00000000000004\n",
      "False positives by RT-PCR only:                                                    980.0000000000008\n",
      "False positives by combining RT-PCR & CT (at least 1 test positive):               10681.999999999996\n"
     ]
    }
   ],
   "source": [
    "simulate(0.97, 0.99, 0.70, 0.90, 0.02, 100000)"
   ]
  },
  {
   "cell_type": "code",
   "execution_count": 14,
   "metadata": {},
   "outputs": [
    {
     "name": "stdout",
     "output_type": "stream",
     "text": [
      "False negatives from RT-PCR (no CT):                                               2250.0000000000005\n",
      "True positives identified on CT who would have been false negative on only RT-PCR: 1575.0\n",
      "False positives by RT-PCR only:                                                    850.0000000000008\n",
      "False positives by combining RT-PCR & CT (at least 1 test positive):               9265.0\n"
     ]
    }
   ],
   "source": [
    "simulate(0.85, 0.99, 0.70, 0.90, 0.15, 100000)"
   ]
  },
  {
   "cell_type": "code",
   "execution_count": null,
   "metadata": {},
   "outputs": [],
   "source": []
  }
 ],
 "metadata": {
  "kernelspec": {
   "display_name": "Python 3",
   "language": "python",
   "name": "python3"
  },
  "language_info": {
   "codemirror_mode": {
    "name": "ipython",
    "version": 3
   },
   "file_extension": ".py",
   "mimetype": "text/x-python",
   "name": "python",
   "nbconvert_exporter": "python",
   "pygments_lexer": "ipython3",
   "version": "3.6.4"
  }
 },
 "nbformat": 4,
 "nbformat_minor": 2
}
